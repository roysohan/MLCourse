{
 "cells": [
  {
   "cell_type": "markdown",
   "id": "b4d11b7f",
   "metadata": {},
   "source": [
    "# Loading the Model"
   ]
  },
  {
   "cell_type": "code",
   "execution_count": 18,
   "id": "c1db5676",
   "metadata": {},
   "outputs": [],
   "source": [
    "class CarPredictionModel():\n",
    "    \n",
    "    def __init__(self, model, features, rmse):\n",
    "        self.model = model\n",
    "        self.features = features\n",
    "        self.rmse = rmse"
   ]
  },
  {
   "cell_type": "markdown",
   "id": "272634b1",
   "metadata": {},
   "source": [
    "## Sample Input"
   ]
  },
  {
   "cell_type": "code",
   "execution_count": 19,
   "id": "4c5d6645",
   "metadata": {},
   "outputs": [],
   "source": [
    "data = {'KM_Driven' : 55, \n",
    "        'Fuel_Type_Petrol' : 1,\n",
    "        'Transmission_Manual': 1, \n",
    "        'Owner_Type_First': 1,\n",
    "        'Age': 5,\n",
    "        'Seats' : 5,\n",
    "        'Model_swift': 1,\n",
    "        'Mileage' : 16, \n",
    "        'Power': 90,\n",
    "        'Location_Bangalore': 1}"
   ]
  },
  {
   "cell_type": "markdown",
   "id": "550ca230",
   "metadata": {},
   "source": [
    "## Making Prediction"
   ]
  },
  {
   "cell_type": "code",
   "execution_count": 20,
   "id": "546c38a1",
   "metadata": {},
   "outputs": [],
   "source": [
    "from joblib import load"
   ]
  },
  {
   "cell_type": "code",
   "execution_count": 21,
   "id": "7b01b132",
   "metadata": {},
   "outputs": [],
   "source": [
    "model_object = load('cars.pkl')"
   ]
  },
  {
   "cell_type": "code",
   "execution_count": 22,
   "id": "8c25e999",
   "metadata": {},
   "outputs": [
    {
     "data": {
      "text/plain": [
       "LinearRegression()"
      ]
     },
     "execution_count": 22,
     "metadata": {},
     "output_type": "execute_result"
    }
   ],
   "source": [
    "model_object.model"
   ]
  },
  {
   "cell_type": "code",
   "execution_count": 23,
   "id": "4d1ee21b",
   "metadata": {},
   "outputs": [
    {
     "data": {
      "text/plain": [
       "0.6103130402412239"
      ]
     },
     "execution_count": 23,
     "metadata": {},
     "output_type": "execute_result"
    }
   ],
   "source": [
    "model_object.rmse"
   ]
  },
  {
   "cell_type": "code",
   "execution_count": 24,
   "id": "d9bd4c6f",
   "metadata": {},
   "outputs": [
    {
     "data": {
      "text/plain": [
       "['Seats',\n",
       " 'Age',\n",
       " 'Mileage',\n",
       " 'Power',\n",
       " 'KM_Driven',\n",
       " 'Location_Bangalore',\n",
       " 'Location_Chennai',\n",
       " 'Location_Coimbatore',\n",
       " 'Location_Delhi',\n",
       " 'Location_Hyderabad',\n",
       " 'Location_Jaipur',\n",
       " 'Location_Kochi',\n",
       " 'Location_Kolkata',\n",
       " 'Location_Mumbai',\n",
       " 'Location_Pune',\n",
       " 'Fuel_Type_Petrol',\n",
       " 'Transmission_Manual',\n",
       " 'Owner_Type_Second',\n",
       " 'Owner_Type_Third',\n",
       " 'Model_alto',\n",
       " 'Model_baleno',\n",
       " 'Model_celerio',\n",
       " 'Model_ciaz',\n",
       " 'Model_dzire',\n",
       " 'Model_eeco',\n",
       " 'Model_ertiga',\n",
       " 'Model_omni',\n",
       " 'Model_ritz',\n",
       " 'Model_swift',\n",
       " 'Model_vitara',\n",
       " 'Model_wagon',\n",
       " 'Model_zen']"
      ]
     },
     "execution_count": 24,
     "metadata": {},
     "output_type": "execute_result"
    }
   ],
   "source": [
    "model_object.features"
   ]
  },
  {
   "cell_type": "code",
   "execution_count": 25,
   "id": "622ab234",
   "metadata": {},
   "outputs": [],
   "source": [
    "car ={}"
   ]
  },
  {
   "cell_type": "code",
   "execution_count": 26,
   "id": "cac0cfd5",
   "metadata": {},
   "outputs": [],
   "source": [
    "for feature in model_object.features:\n",
    "    car[feature] = data.get(feature, 0.0)"
   ]
  },
  {
   "cell_type": "code",
   "execution_count": 27,
   "id": "6b39ce7e",
   "metadata": {},
   "outputs": [
    {
     "data": {
      "text/plain": [
       "{'Seats': 5,\n",
       " 'Age': 5,\n",
       " 'Mileage': 16,\n",
       " 'Power': 90,\n",
       " 'KM_Driven': 55,\n",
       " 'Location_Bangalore': 1,\n",
       " 'Location_Chennai': 0.0,\n",
       " 'Location_Coimbatore': 0.0,\n",
       " 'Location_Delhi': 0.0,\n",
       " 'Location_Hyderabad': 0.0,\n",
       " 'Location_Jaipur': 0.0,\n",
       " 'Location_Kochi': 0.0,\n",
       " 'Location_Kolkata': 0.0,\n",
       " 'Location_Mumbai': 0.0,\n",
       " 'Location_Pune': 0.0,\n",
       " 'Fuel_Type_Petrol': 1,\n",
       " 'Transmission_Manual': 1,\n",
       " 'Owner_Type_Second': 0.0,\n",
       " 'Owner_Type_Third': 0.0,\n",
       " 'Model_alto': 0.0,\n",
       " 'Model_baleno': 0.0,\n",
       " 'Model_celerio': 0.0,\n",
       " 'Model_ciaz': 0.0,\n",
       " 'Model_dzire': 0.0,\n",
       " 'Model_eeco': 0.0,\n",
       " 'Model_ertiga': 0.0,\n",
       " 'Model_omni': 0.0,\n",
       " 'Model_ritz': 0.0,\n",
       " 'Model_swift': 1,\n",
       " 'Model_vitara': 0.0,\n",
       " 'Model_wagon': 0.0,\n",
       " 'Model_zen': 0.0}"
      ]
     },
     "execution_count": 27,
     "metadata": {},
     "output_type": "execute_result"
    }
   ],
   "source": [
    "car"
   ]
  },
  {
   "cell_type": "code",
   "execution_count": 28,
   "id": "2d6cb809",
   "metadata": {},
   "outputs": [],
   "source": [
    "import pandas as pd"
   ]
  },
  {
   "cell_type": "code",
   "execution_count": 30,
   "id": "cb409079",
   "metadata": {},
   "outputs": [],
   "source": [
    "car_df = pd.DataFrame(car, index = [0])"
   ]
  },
  {
   "cell_type": "code",
   "execution_count": 32,
   "id": "499ad0b9",
   "metadata": {},
   "outputs": [
    {
     "data": {
      "text/html": [
       "<div>\n",
       "<style scoped>\n",
       "    .dataframe tbody tr th:only-of-type {\n",
       "        vertical-align: middle;\n",
       "    }\n",
       "\n",
       "    .dataframe tbody tr th {\n",
       "        vertical-align: top;\n",
       "    }\n",
       "\n",
       "    .dataframe thead th {\n",
       "        text-align: right;\n",
       "    }\n",
       "</style>\n",
       "<table border=\"1\" class=\"dataframe\">\n",
       "  <thead>\n",
       "    <tr style=\"text-align: right;\">\n",
       "      <th></th>\n",
       "      <th>Seats</th>\n",
       "      <th>Age</th>\n",
       "      <th>Mileage</th>\n",
       "      <th>Power</th>\n",
       "      <th>KM_Driven</th>\n",
       "      <th>Location_Bangalore</th>\n",
       "      <th>Location_Chennai</th>\n",
       "      <th>Location_Coimbatore</th>\n",
       "      <th>Location_Delhi</th>\n",
       "      <th>Location_Hyderabad</th>\n",
       "      <th>...</th>\n",
       "      <th>Model_ciaz</th>\n",
       "      <th>Model_dzire</th>\n",
       "      <th>Model_eeco</th>\n",
       "      <th>Model_ertiga</th>\n",
       "      <th>Model_omni</th>\n",
       "      <th>Model_ritz</th>\n",
       "      <th>Model_swift</th>\n",
       "      <th>Model_vitara</th>\n",
       "      <th>Model_wagon</th>\n",
       "      <th>Model_zen</th>\n",
       "    </tr>\n",
       "  </thead>\n",
       "  <tbody>\n",
       "    <tr>\n",
       "      <th>0</th>\n",
       "      <td>5</td>\n",
       "      <td>5</td>\n",
       "      <td>16</td>\n",
       "      <td>90</td>\n",
       "      <td>55</td>\n",
       "      <td>1</td>\n",
       "      <td>0.0</td>\n",
       "      <td>0.0</td>\n",
       "      <td>0.0</td>\n",
       "      <td>0.0</td>\n",
       "      <td>...</td>\n",
       "      <td>0.0</td>\n",
       "      <td>0.0</td>\n",
       "      <td>0.0</td>\n",
       "      <td>0.0</td>\n",
       "      <td>0.0</td>\n",
       "      <td>0.0</td>\n",
       "      <td>1</td>\n",
       "      <td>0.0</td>\n",
       "      <td>0.0</td>\n",
       "      <td>0.0</td>\n",
       "    </tr>\n",
       "  </tbody>\n",
       "</table>\n",
       "<p>1 rows × 32 columns</p>\n",
       "</div>"
      ],
      "text/plain": [
       "   Seats  Age  Mileage  Power  KM_Driven  Location_Bangalore  \\\n",
       "0      5    5       16     90         55                   1   \n",
       "\n",
       "   Location_Chennai  Location_Coimbatore  Location_Delhi  Location_Hyderabad  \\\n",
       "0               0.0                  0.0             0.0                 0.0   \n",
       "\n",
       "   ...  Model_ciaz  Model_dzire  Model_eeco  Model_ertiga  Model_omni  \\\n",
       "0  ...         0.0          0.0         0.0           0.0         0.0   \n",
       "\n",
       "   Model_ritz  Model_swift  Model_vitara  Model_wagon  Model_zen  \n",
       "0         0.0            1           0.0          0.0        0.0  \n",
       "\n",
       "[1 rows x 32 columns]"
      ]
     },
     "execution_count": 32,
     "metadata": {},
     "output_type": "execute_result"
    }
   ],
   "source": [
    "car_df"
   ]
  },
  {
   "cell_type": "code",
   "execution_count": 37,
   "id": "ffb5ac22",
   "metadata": {},
   "outputs": [
    {
     "data": {
      "text/plain": [
       "5.240167005414989"
      ]
     },
     "execution_count": 37,
     "metadata": {},
     "output_type": "execute_result"
    }
   ],
   "source": [
    "price = model_object.model.predict(car_df)[0]\n",
    "price"
   ]
  },
  {
   "cell_type": "code",
   "execution_count": 38,
   "id": "8625f9b4",
   "metadata": {},
   "outputs": [
    {
     "data": {
      "text/plain": [
       "(4.629853965173765, 5.850480045656213)"
      ]
     },
     "execution_count": 38,
     "metadata": {},
     "output_type": "execute_result"
    }
   ],
   "source": [
    "price - model_object.rmse, price + model_object.rmse"
   ]
  }
 ],
 "metadata": {
  "kernelspec": {
   "display_name": "Python 3 (ipykernel)",
   "language": "python",
   "name": "python3"
  },
  "language_info": {
   "codemirror_mode": {
    "name": "ipython",
    "version": 3
   },
   "file_extension": ".py",
   "mimetype": "text/x-python",
   "name": "python",
   "nbconvert_exporter": "python",
   "pygments_lexer": "ipython3",
   "version": "3.9.13"
  }
 },
 "nbformat": 4,
 "nbformat_minor": 5
}
